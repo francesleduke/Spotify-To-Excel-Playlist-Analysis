{
 "cells": [
  {
   "cell_type": "markdown",
   "id": "9a3df8d1-00fd-47f4-b9ce-3a9b6b6c454b",
   "metadata": {},
   "source": [
    "I love my girlfriend! Here is a script to create an updating spreadsheet of the songs I add to her playlist, because I want to put notes next to each song as to why I want her to hear these songs. I just learned Python so here we go."
   ]
  },
  {
   "cell_type": "code",
   "execution_count": 46,
   "id": "7eccb2b4-91b1-41cb-af5c-76840d285277",
   "metadata": {},
   "outputs": [
    {
     "data": {
      "text/plain": [
       "True"
      ]
     },
     "execution_count": 46,
     "metadata": {},
     "output_type": "execute_result"
    }
   ],
   "source": [
    "from dotenv import load_dotenv\n",
    "import os \n",
    "import base64\n",
    "from requests import post\n",
    "import json\n",
    "\n",
    "load_dotenv()"
   ]
  },
  {
   "cell_type": "code",
   "execution_count": 36,
   "id": "a63db0a8-579d-459d-9dfe-48f59fa9f00e",
   "metadata": {},
   "outputs": [],
   "source": [
    "CLIENT_ID = os.getenv(\"CLIENT_ID\")\n",
    "CLIENT_SECRET = os.getenv(\"CLIENT_SECRET\")             "
   ]
  },
  {
   "cell_type": "code",
   "execution_count": 48,
   "id": "996eac2f-74a2-44a3-98c5-61d88f289209",
   "metadata": {},
   "outputs": [
    {
     "name": "stdout",
     "output_type": "stream",
     "text": [
      "BQDt_iZWk8YJkfRLgawSqWOXDitEO0JiW8bEOaneRBlit7JsK0FXmIY7BNCZpfp_4ihrowOOHOX5436UQuS4zkMUErYEF_RiHrs3pT08YtZXC1jJk_U1yGe9mLsliJKW9vA4OZLpLjk\n"
     ]
    }
   ],
   "source": [
    "def get_token():\n",
    "    auth_string = CLIENT_ID + \":\" + CLIENT_SECRET\n",
    "    auth_bytes = auth_string.encode(\"utf-8\")\n",
    "    auth_base64 = str(base64.b64encode(auth_bytes), \"utf-8\")\n",
    "\n",
    "    url = \"https://accounts.spotify.com/api/token\"\n",
    "    headers = {\n",
    "    \"Authorization\": \"Basic \" + auth_base64,\n",
    "    \"Content-Type\": \"application/x-www-form-urlencoded\"\n",
    "    }\n",
    "\n",
    "    data = {\"grant_type\": \"client_credentials\"}\n",
    "    result = post(url, headers=headers, data=data)\n",
    "    json_result = json.loads(result.content)\n",
    "    token = json_result [\"access_token\"]\n",
    "    return token\n",
    "\n",
    "def get_auth_header(token):\n",
    "    return{\"Authorization\": \"Bearer \" + token}\n",
    "\n",
    "\n",
    "\n",
    "token = get_token()\n",
    "print(token)"
   ]
  },
  {
   "cell_type": "code",
   "execution_count": 50,
   "id": "b46cd04e-76ef-4956-b23a-60e9cde9a066",
   "metadata": {},
   "outputs": [
    {
     "data": {
      "text/plain": [
       "['.Rhistory',\n",
       " '.config',\n",
       " 'Music',\n",
       " 'Noteook_test_example.ipynb',\n",
       " '.DS_Store',\n",
       " '.CFUserTextEncoding',\n",
       " 'LearningPython.ipynb',\n",
       " '.local',\n",
       " 'Pictures',\n",
       " 'BLOOM 2024(AutoRecovered).xlsx',\n",
       " '.zprofile',\n",
       " '.901950b4-5d46-4239-96b0-a9196e21330a',\n",
       " '.zsh_history',\n",
       " '.ipython',\n",
       " 'Desktop',\n",
       " 'Library',\n",
       " '.matplotlib',\n",
       " 'Olivia_Updating_Playlist_Spreadsheet.ipynb',\n",
       " 'Public',\n",
       " '.idlerc',\n",
       " '.env',\n",
       " 'Movies',\n",
       " 'Applications',\n",
       " '.Trash',\n",
       " '.ipynb_checkpoints',\n",
       " '.jupyter',\n",
       " 'Documents',\n",
       " '.env.ipynb',\n",
       " 'Downloads',\n",
       " 'Secchi Depths (1)(AutoRecovered).xlsx',\n",
       " '.gitconfig',\n",
       " '.zsh_sessions']"
      ]
     },
     "execution_count": 50,
     "metadata": {},
     "output_type": "execute_result"
    }
   ],
   "source": [
    "import os\n",
    "os.getcwd()\n",
    "os.listdir()"
   ]
  }
 ],
 "metadata": {
  "kernelspec": {
   "display_name": "Python 3 (ipykernel)",
   "language": "python",
   "name": "python3"
  },
  "language_info": {
   "codemirror_mode": {
    "name": "ipython",
    "version": 3
   },
   "file_extension": ".py",
   "mimetype": "text/x-python",
   "name": "python",
   "nbconvert_exporter": "python",
   "pygments_lexer": "ipython3",
   "version": "3.12.5"
  }
 },
 "nbformat": 4,
 "nbformat_minor": 5
}
